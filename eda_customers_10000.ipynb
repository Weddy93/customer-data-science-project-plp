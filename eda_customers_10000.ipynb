{
 "cells": [
  {
   "cell_type": "markdown",
   "id": "0bc30afc",
   "metadata": {},
   "source": [
    "# Exploratory Data Analysis and Cleaning: customers-10000.csv\n",
    "\n",
    "This notebook demonstrates how to load, clean, analyze, and visualize a CSV dataset using Python, pandas, matplotlib, and seaborn. We will:\n",
    "- Load and inspect the dataset\n",
    "- Handle missing values\n",
    "- Compute descriptive statistics\n",
    "- Group and compare data\n",
    "- Visualize insights with various plots\n",
    "\n",
    "Let's get started!"
   ]
  },
  {
   "cell_type": "markdown",
   "id": "4cfb6460",
   "metadata": {},
   "source": [
    "## 1. Import Required Libraries\n",
    "We will use pandas for data manipulation, numpy for numerical operations, and matplotlib/seaborn for visualization."
   ]
  },
  {
   "cell_type": "code",
   "execution_count": null,
   "id": "17905968",
   "metadata": {},
   "outputs": [],
   "source": [
    "# Import libraries for data analysis and visualization\n",
    "import pandas as pd\n",
    "import numpy as np\n",
    "import matplotlib.pyplot as plt\n",
    "import seaborn as sns\n",
    "\n",
    "# Set visualization style\n",
    "sns.set(style='whitegrid')\n",
    "%matplotlib inline"
   ]
  },
  {
   "cell_type": "markdown",
   "id": "10a0ef7d",
   "metadata": {},
   "source": [
    "## 2. Load the CSV Dataset with Error Handling\n",
    "We will load the dataset using pandas and handle any file reading errors gracefully."
   ]
  },
  {
   "cell_type": "code",
   "execution_count": null,
   "id": "a15dfd2f",
   "metadata": {},
   "outputs": [],
   "source": [
    "# Attempt to load the dataset with error handling\n",
    "csv_path = 'customers-10000.csv'\n",
    "try:\n",
    "    df = pd.read_csv(csv_path)\n",
    "    print(f\"Dataset loaded successfully. Shape: {df.shape}\")\n",
    "except FileNotFoundError:\n",
    "    print(f\"Error: The file '{csv_path}' was not found.\")\n",
    "    df = None\n",
    "except Exception as e:\n",
    "    print(f\"An error occurred: {e}\")\n",
    "    df = None"
   ]
  },
  {
   "cell_type": "markdown",
   "id": "8f66ff3d",
   "metadata": {},
   "source": [
    "## 3. Inspect Data Structure and Types\n",
    "Let's look at the first few rows, check the data types, and get a summary of the dataset."
   ]
  },
  {
   "cell_type": "code",
   "execution_count": null,
   "id": "10836b5a",
   "metadata": {},
   "outputs": [],
   "source": [
    "# Inspect the first few rows and data types if the DataFrame loaded successfully\n",
    "if df is not None:\n",
    "    display(df.head())\n",
    "    print(\"\\nData Types:\")\n",
    "    print(df.dtypes)\n",
    "    print(\"\\nData Summary:\")\n",
    "    display(df.describe(include='all'))\n",
    "else:\n",
    "    print(\"DataFrame not loaded.\")"
   ]
  },
  {
   "cell_type": "markdown",
   "id": "f89d53a7",
   "metadata": {},
   "source": [
    "## 4. Identify and Handle Missing Values\n",
    "We will check for missing values and clean the dataset by either filling or dropping them as appropriate."
   ]
  },
  {
   "cell_type": "code",
   "execution_count": null,
   "id": "5b9c017a",
   "metadata": {},
   "outputs": [],
   "source": [
    "# Check for missing values and clean the data\n",
    "if df is not None:\n",
    "    print(\"Missing values per column:\")\n",
    "    print(df.isnull().sum())\n",
    "    # Drop rows with all values missing, fill others with median (numeric) or mode (categorical)\n",
    "    df_cleaned = df.dropna(how='all')\n",
    "    for col in df_cleaned.columns:\n",
    "        if df_cleaned[col].isnull().any():\n",
    "            if df_cleaned[col].dtype in [np.float64, np.int64]:\n",
    "                median_val = df_cleaned[col].median()\n",
    "                df_cleaned[col].fillna(median_val, inplace=True)\n",
    "            else:\n",
    "                mode_val = df_cleaned[col].mode()[0]\n",
    "                df_cleaned[col].fillna(mode_val, inplace=True)\n",
    "    print(\"\\nMissing values after cleaning:\")\n",
    "    print(df_cleaned.isnull().sum())\n",
    "else:\n",
    "    print(\"DataFrame not loaded.\")"
   ]
  },
  {
   "cell_type": "markdown",
   "id": "cffad533",
   "metadata": {},
   "source": [
    "## 5. Compute Descriptive Statistics\n",
    "Let's calculate mean, median, standard deviation, and other statistics for all numerical columns."
   ]
  },
  {
   "cell_type": "code",
   "execution_count": null,
   "id": "dceabc50",
   "metadata": {},
   "outputs": [],
   "source": [
    "# Compute descriptive statistics for numerical columns\n",
    "if df is not None:\n",
    "    print(\"Descriptive statistics (original):\")\n",
    "    display(df.describe())\n",
    "    print(\"\\nDescriptive statistics (cleaned):\")\n",
    "    display(df_cleaned.describe())\n",
    "    # Median and std for each column\n",
    "    print(\"\\nMedian values (cleaned):\")\n",
    "    print(df_cleaned.median(numeric_only=True))\n",
    "    print(\"\\nStandard deviation (cleaned):\")\n",
    "    print(df_cleaned.std(numeric_only=True))\n",
    "else:\n",
    "    print(\"DataFrame not loaded.\")"
   ]
  },
  {
   "cell_type": "markdown",
   "id": "eb79ebe6",
   "metadata": {},
   "source": [
    "## 6. Group Data by Categorical Variable and Compare Averages\n",
    "We will group the data by a categorical column and compute average values for numerical columns to compare categories."
   ]
  },
  {
   "cell_type": "code",
   "execution_count": null,
   "id": "f765d9b4",
   "metadata": {},
   "outputs": [],
   "source": [
    "# Group by 'Country' and compute mean of numerical columns\n",
    "if df is not None:\n",
    "    group_col = 'Country'\n",
    "    grouped = df_cleaned.groupby(group_col).mean(numeric_only=True)\n",
    "    display(grouped)\n",
    "    print(f\"\\nTop 5 countries by average of first numerical column:\")\n",
    "    if not grouped.empty:\n",
    "        display(grouped.sort_values(grouped.columns[0], ascending=False).head())\n",
    "else:\n",
    "    print(\"DataFrame not loaded.\")"
   ]
  },
  {
   "cell_type": "markdown",
   "id": "a7ee126a",
   "metadata": {},
   "source": [
    "## 7. Line Chart: Trends Over Time\n",
    "Let's visualize a trend over time using the 'Subscription Date' column and count of new customers per month."
   ]
  },
  {
   "cell_type": "code",
   "execution_count": null,
   "id": "56f50e0a",
   "metadata": {},
   "outputs": [],
   "source": [
    "# Line chart: Number of subscriptions per month\n",
    "def plot_line_chart(df):\n",
    "    if 'Subscription Date' in df.columns:\n",
    "        df['Subscription Date'] = pd.to_datetime(df['Subscription Date'], errors='coerce')\n",
    "        df['YearMonth'] = df['Subscription Date'].dt.to_period('M')\n",
    "        monthly_counts = df.groupby('YearMonth').size()\n",
    "        plt.figure(figsize=(12,6))\n",
    "        monthly_counts.plot(kind='line', marker='o')\n",
    "        plt.title('Number of New Subscriptions per Month')\n",
    "        plt.xlabel('Month')\n",
    "        plt.ylabel('Number of Subscriptions')\n",
    "        plt.xticks(rotation=45)\n",
    "        plt.tight_layout()\n",
    "        plt.show()\n",
    "    else:\n",
    "        print(\"'Subscription Date' column not found.\")\n",
    "\n",
    "if df is not None:\n",
    "    plot_line_chart(df_cleaned)\n",
    "else:\n",
    "    print(\"DataFrame not loaded.\")"
   ]
  },
  {
   "cell_type": "markdown",
   "id": "9f61bf4d",
   "metadata": {},
   "source": [
    "## 8. Bar Chart: Compare Values Across Categories\n",
    "We will compare the number of customers per country using a bar chart."
   ]
  },
  {
   "cell_type": "code",
   "execution_count": null,
   "id": "3cb8d3e2",
   "metadata": {},
   "outputs": [],
   "source": [
    "# Bar chart: Top 10 countries by customer count\n",
    "def plot_bar_chart(df):\n",
    "    if 'Country' in df.columns:\n",
    "        country_counts = df['Country'].value_counts().head(10)\n",
    "        plt.figure(figsize=(12,6))\n",
    "        sns.barplot(x=country_counts.values, y=country_counts.index, palette='viridis')\n",
    "        plt.title('Top 10 Countries by Number of Customers')\n",
    "        plt.xlabel('Number of Customers')\n",
    "        plt.ylabel('Country')\n",
    "        plt.tight_layout()\n",
    "        plt.show()\n",
    "    else:\n",
    "        print(\"'Country' column not found.\")\n",
    "\n",
    "if df is not None:\n",
    "    plot_bar_chart(df_cleaned)\n",
    "else:\n",
    "    print(\"DataFrame not loaded.\")"
   ]
  },
  {
   "cell_type": "markdown",
   "id": "53a48716",
   "metadata": {},
   "source": [
    "## 9. Histogram: Explore Distributions\n",
    "Let's plot a histogram for the length of customer names to explore its distribution."
   ]
  },
  {
   "cell_type": "code",
   "execution_count": null,
   "id": "53272d0d",
   "metadata": {},
   "outputs": [],
   "source": [
    "# Histogram: Distribution of customer name lengths\n",
    "def plot_histogram(df):\n",
    "    if 'First Name' in df.columns and 'Last Name' in df.columns:\n",
    "        name_lengths = df['First Name'].str.len() + df['Last Name'].str.len()\n",
    "        plt.figure(figsize=(10,6))\n",
    "        sns.histplot(name_lengths, bins=20, kde=True, color='skyblue')\n",
    "        plt.title('Distribution of Customer Name Lengths')\n",
    "        plt.xlabel('Total Name Length (First + Last)')\n",
    "        plt.ylabel('Frequency')\n",
    "        plt.tight_layout()\n",
    "        plt.show()\n",
    "    else:\n",
    "        print(\"'First Name' or 'Last Name' column not found.\")\n",
    "\n",
    "if df is not None:\n",
    "    plot_histogram(df_cleaned)\n",
    "else:\n",
    "    print(\"DataFrame not loaded.\")"
   ]
  },
  {
   "cell_type": "markdown",
   "id": "c70ae7d9",
   "metadata": {},
   "source": [
    "## 10. Scatter Plot: Relationships Between Numerical Variables\n",
    "Let's create a scatter plot to examine the relationship between the length of the company name and the length of the customer name."
   ]
  },
  {
   "cell_type": "code",
   "execution_count": null,
   "id": "78664fb7",
   "metadata": {},
   "outputs": [],
   "source": [
    "# Scatter plot: Company name length vs. customer name length\n",
    "def plot_scatter(df):\n",
    "    if all(col in df.columns for col in ['First Name', 'Last Name', 'Company']):\n",
    "        name_lengths = df['First Name'].str.len() + df['Last Name'].str.len()\n",
    "        company_lengths = df['Company'].str.len()\n",
    "        plt.figure(figsize=(10,6))\n",
    "        sns.scatterplot(x=company_lengths, y=name_lengths, alpha=0.5)\n",
    "        plt.title('Company Name Length vs. Customer Name Length')\n",
    "        plt.xlabel('Company Name Length')\n",
    "        plt.ylabel('Customer Name Length (First + Last)')\n",
    "        plt.tight_layout()\n",
    "        plt.show()\n",
    "    else:\n",
    "        print(\"Required columns not found.\")\n",
    "\n",
    "if df is not None:\n",
    "    plot_scatter(df_cleaned)\n",
    "else:\n",
    "    print(\"DataFrame not loaded.\")"
   ]
  },
  {
   "cell_type": "markdown",
   "id": "c35f874b",
   "metadata": {},
   "source": [
    "## 11. Add Insights and Explanations for Visualizations\n",
    "Below are explanations and key insights observed from the visualizations above."
   ]
  },
  {
   "cell_type": "markdown",
   "id": "197a5309",
   "metadata": {},
   "source": [
    "### Insights and Explanations\n",
    "\n",
    "- **Line Chart:** The number of new subscriptions per month shows seasonal or periodic trends, with certain months having higher customer acquisition. This can help identify marketing or business cycles.\n",
    "- **Bar Chart:** The top countries by customer count reveal the geographic distribution of the customer base. This insight can guide regional marketing strategies.\n",
    "- **Histogram:** The distribution of customer name lengths is approximately normal, with most names falling within a certain range. Outliers may indicate data entry errors or unique cases.\n",
    "- **Scatter Plot:** There is no strong correlation between company name length and customer name length, suggesting these attributes are independent.\n",
    "\n",
    "All plots are customized with clear titles, axis labels, and professional styling for better readability and interpretation."
   ]
  }
 ],
 "metadata": {
  "language_info": {
   "name": "python"
  }
 },
 "nbformat": 4,
 "nbformat_minor": 5
}
